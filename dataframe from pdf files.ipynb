{
 "cells": [
  {
   "cell_type": "code",
   "execution_count": 11,
   "metadata": {},
   "outputs": [],
   "source": [
    "import PyPDF2\n",
    "import os\n",
    "import pandas as pd"
   ]
  },
  {
   "cell_type": "code",
   "execution_count": 12,
   "metadata": {},
   "outputs": [],
   "source": [
    "folder_path = r'F:\\anaconda\\DF\\Topic classification\\data2'"
   ]
  },
  {
   "cell_type": "code",
   "execution_count": 13,
   "metadata": {},
   "outputs": [
    {
     "data": {
      "text/plain": [
       "['New folder',\n",
       " 'New folder (2)',\n",
       " 'New folder (3)',\n",
       " 'New folder (4)',\n",
       " 'New folder (5)']"
      ]
     },
     "execution_count": 13,
     "metadata": {},
     "output_type": "execute_result"
    }
   ],
   "source": [
    "files_folder = os.listdir(folder_path)\n",
    "# files_folder = [os.path.join(folder_path,i) for i in files_folder if 'data1' not in i]\n",
    "# files_folder = [os.path.join(folder_path,i) for i in files_folder if 'data2' not in i]\n",
    "# files_folder = [os.path.join(folder_path,i) for i in files_folder if '.ipynb_checkpoints' not in i]\n",
    "# files_folder = [os.path.join(folder_path,i) for i in files_folder if 'Untitled.ipynb' not in i]\n",
    "\n",
    "files_folder"
   ]
  },
  {
   "cell_type": "code",
   "execution_count": null,
   "metadata": {},
   "outputs": [],
   "source": [
    "files = []\n",
    "for fol in files_folder:\n",
    "    files_list = os.listdir(fol)\n",
    "    files_list = [(os.path.join(fol,i),fol.split(\"\\\\\")[-1]) for i in files_list]\n",
    "    files.append(files_list)\n",
    "    \n",
    "    \n",
    "files = [item for sublist in files for item in sublist]\n",
    "files"
   ]
  },
  {
   "cell_type": "code",
   "execution_count": null,
   "metadata": {},
   "outputs": [],
   "source": [
    "df = pd.DataFrame(files,columns=['Files','Topics'])\n",
    "df.head()"
   ]
  },
  {
   "cell_type": "code",
   "execution_count": null,
   "metadata": {},
   "outputs": [],
   "source": [
    "def pdftotextconv(file):\n",
    "    \n",
    "    strr = \"\"\n",
    "    \n",
    "    pdf = PyPDF2.PdfFileReader(file)\n",
    "    \n",
    "    for page in range(pdf.getNumPages()):\n",
    "        strr += pdf.getPage(page).extractText()\n",
    "    \n",
    "    strr = \" \".join(strr.split('\\n'))\n",
    "\n",
    "    return strr"
   ]
  },
  {
   "cell_type": "code",
   "execution_count": null,
   "metadata": {},
   "outputs": [],
   "source": [
    "df['Text'] = df['Files'].apply(lambda x : pdftotextconv(x))\n",
    "df.head()"
   ]
  }
 ],
 "metadata": {
  "kernelspec": {
   "display_name": "Python 3",
   "language": "python",
   "name": "python3"
  },
  "language_info": {
   "codemirror_mode": {
    "name": "ipython",
    "version": 3
   },
   "file_extension": ".py",
   "mimetype": "text/x-python",
   "name": "python",
   "nbconvert_exporter": "python",
   "pygments_lexer": "ipython3",
   "version": "3.7.6"
  }
 },
 "nbformat": 4,
 "nbformat_minor": 4
}
